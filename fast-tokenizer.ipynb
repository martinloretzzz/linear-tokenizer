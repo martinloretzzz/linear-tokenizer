{
 "cells": [
  {
   "cell_type": "code",
   "execution_count": 38,
   "metadata": {},
   "outputs": [],
   "source": [
    "import json\n",
    "import timeit\n",
    "import tiktoken"
   ]
  },
  {
   "cell_type": "code",
   "execution_count": 39,
   "metadata": {},
   "outputs": [
    {
     "name": "stdout",
     "output_type": "stream",
     "text": [
      "running build_ext"
     ]
    },
    {
     "name": "stderr",
     "output_type": "stream",
     "text": [
      "error: could not delete 'trie.cp310-win_amd64.pyd': Access is denied\n"
     ]
    },
    {
     "name": "stdout",
     "output_type": "stream",
     "text": [
      "\n",
      "copying build\\lib.win-amd64-3.10\\trie.cp310-win_amd64.pyd -> \n"
     ]
    }
   ],
   "source": [
    "!python setup.py build_ext --inplace"
   ]
  },
  {
   "cell_type": "code",
   "execution_count": 40,
   "metadata": {},
   "outputs": [],
   "source": [
    "import trie\n",
    "\n",
    "def bytes_to_unicode():\n",
    "    bs = list(range(ord(\"!\"), ord(\"~\")+1))+list(range(ord(\"¡\"), ord(\"¬\")+1))+list(range(ord(\"®\"), ord(\"ÿ\")+1))\n",
    "    cs = bs[:]\n",
    "    n = 0\n",
    "    for b in range(2**8):\n",
    "        if b not in bs:\n",
    "            bs.append(b)\n",
    "            cs.append(2**8+n)\n",
    "            n += 1\n",
    "    cs = [chr(n) for n in cs]\n",
    "    return dict(zip(bs, cs))\n",
    "\n",
    "import time\n",
    "\n",
    "class LinearTokenizer():\n",
    "    def __init__(self, vocab):\n",
    "        byte_encoder = bytes_to_unicode()\n",
    "        byte_decoder = {v:k for k, v in byte_encoder.items()}\n",
    "\n",
    "        self.vocab_encode = vocab\n",
    "        self.vocab_decode = {}\n",
    "\n",
    "        self.trie = trie.Trie()\n",
    "        for token, token_id in self.vocab_encode.items():\n",
    "            token_bytes = bytes([byte_decoder[c] for c in token])\n",
    "            self.vocab_decode[token_id] = token_bytes\n",
    "            self.trie.insert(token_bytes, token_id)\n",
    "\n",
    "    def encode(self, text, return_token_tuple=False):\n",
    "        # TODO special handling of <|endoftext|> token\n",
    "        t0 = time.perf_counter()\n",
    "        text = text.encode('utf-8')\n",
    "        # print(\"UTF8 time:\", time.perf_counter() - t0)\n",
    "\n",
    "        t0 = time.perf_counter()\n",
    "        ids = self.trie.encode(text)\n",
    "        # print(\"Decode time:\", time.perf_counter() - t0)\n",
    "        return (ids, [self.vocab_decode[id] for id in ids]) if return_token_tuple else ids\n",
    "\n",
    "    def decode(self, ids):\n",
    "        out = bytes()\n",
    "        for id in ids:\n",
    "            if not id in self.vocab_decode:\n",
    "                raise Exception(f\"Error decoding {id}\")\n",
    "            out += self.vocab_decode[id]\n",
    "        return out.decode('utf-8', errors=\"replace\")\n",
    "\n",
    "\n",
    "with open('vocab.json', 'r', encoding='utf-8') as f:\n",
    "    tokenizer_config = json.load(f)\n",
    "tokenizer_linear = LinearTokenizer(tokenizer_config)\n",
    "tokenizer_tt = tiktoken.get_encoding(\"gpt2\")"
   ]
  },
  {
   "cell_type": "code",
   "execution_count": 42,
   "metadata": {},
   "outputs": [
    {
     "name": "stdout",
     "output_type": "stream",
     "text": [
      "48955\n",
      "True\n"
     ]
    }
   ],
   "source": [
    "with open('../embedding-explorer/tokenizers/taylorswift.txt', 'r') as file:\n",
    "    content = file.read()\n",
    "\n",
    "ids_lin = tokenizer_linear.encode(content)\n",
    "ids_tt = tokenizer_tt.encode(content)\n",
    "\n",
    "decoded = tokenizer_linear.decode(ids_lin)\n",
    "token_count = len(ids_lin)\n",
    "\n",
    "print(token_count)\n",
    "print(content == decoded)"
   ]
  },
  {
   "cell_type": "code",
   "execution_count": 43,
   "metadata": {},
   "outputs": [
    {
     "name": "stdout",
     "output_type": "stream",
     "text": [
      "Linear: 10.888645000000906\n",
      "Tiktoken: 30.02101109999967\n"
     ]
    }
   ],
   "source": [
    "print(\"Linear:\", timeit.timeit(lambda: tokenizer_linear.encode(content), number=1000))\n",
    "print(\"Tiktoken:\", timeit.timeit(lambda: tokenizer_tt.encode(content), number=1000))"
   ]
  },
  {
   "cell_type": "code",
   "execution_count": null,
   "metadata": {},
   "outputs": [],
   "source": []
  }
 ],
 "metadata": {
  "kernelspec": {
   "display_name": "Python 3",
   "language": "python",
   "name": "python3"
  },
  "language_info": {
   "codemirror_mode": {
    "name": "ipython",
    "version": 3
   },
   "file_extension": ".py",
   "mimetype": "text/x-python",
   "name": "python",
   "nbconvert_exporter": "python",
   "pygments_lexer": "ipython3",
   "version": "3.10.5"
  }
 },
 "nbformat": 4,
 "nbformat_minor": 2
}
