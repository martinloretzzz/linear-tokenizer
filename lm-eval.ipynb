{
 "cells": [
  {
   "cell_type": "code",
   "execution_count": 5,
   "metadata": {},
   "outputs": [
    {
     "name": "stdout",
     "output_type": "stream",
     "text": [
      "Requirement already satisfied: lm_eval in /opt/conda/lib/python3.10/site-packages (0.4.5)\n",
      "Requirement already satisfied: accelerate>=0.26.0 in /opt/conda/lib/python3.10/site-packages (from lm_eval) (1.1.1)\n",
      "Requirement already satisfied: evaluate in /opt/conda/lib/python3.10/site-packages (from lm_eval) (0.4.3)\n",
      "Requirement already satisfied: datasets>=2.16.0 in /opt/conda/lib/python3.10/site-packages (from lm_eval) (3.1.0)\n",
      "Requirement already satisfied: jsonlines in /opt/conda/lib/python3.10/site-packages (from lm_eval) (4.0.0)\n",
      "Requirement already satisfied: numexpr in /opt/conda/lib/python3.10/site-packages (from lm_eval) (2.10.1)\n",
      "Requirement already satisfied: peft>=0.2.0 in /opt/conda/lib/python3.10/site-packages (from lm_eval) (0.13.2)\n",
      "Requirement already satisfied: pybind11>=2.6.2 in /opt/conda/lib/python3.10/site-packages (from lm_eval) (2.13.6)\n",
      "Requirement already satisfied: pytablewriter in /opt/conda/lib/python3.10/site-packages (from lm_eval) (1.2.0)\n",
      "Requirement already satisfied: rouge-score>=0.0.4 in /opt/conda/lib/python3.10/site-packages (from lm_eval) (0.1.2)\n",
      "Requirement already satisfied: sacrebleu>=1.5.0 in /opt/conda/lib/python3.10/site-packages (from lm_eval) (2.4.3)\n",
      "Requirement already satisfied: scikit-learn>=0.24.1 in /opt/conda/lib/python3.10/site-packages (from lm_eval) (1.5.2)\n",
      "Requirement already satisfied: sqlitedict in /opt/conda/lib/python3.10/site-packages (from lm_eval) (2.1.0)\n",
      "Requirement already satisfied: torch>=1.8 in /opt/conda/lib/python3.10/site-packages (from lm_eval) (2.2.1)\n",
      "Requirement already satisfied: tqdm-multiprocess in /opt/conda/lib/python3.10/site-packages (from lm_eval) (0.0.11)\n",
      "Requirement already satisfied: transformers>=4.1 in /opt/conda/lib/python3.10/site-packages (from lm_eval) (4.46.2)\n",
      "Requirement already satisfied: zstandard in /opt/conda/lib/python3.10/site-packages (from lm_eval) (0.19.0)\n",
      "Requirement already satisfied: dill in /opt/conda/lib/python3.10/site-packages (from lm_eval) (0.3.8)\n",
      "Requirement already satisfied: word2number in /opt/conda/lib/python3.10/site-packages (from lm_eval) (1.1)\n",
      "Requirement already satisfied: more-itertools in /opt/conda/lib/python3.10/site-packages (from lm_eval) (10.1.0)\n",
      "Requirement already satisfied: huggingface-hub>=0.21.0 in /opt/conda/lib/python3.10/site-packages (from accelerate>=0.26.0->lm_eval) (0.26.2)\n",
      "Requirement already satisfied: numpy<3.0.0,>=1.17 in /opt/conda/lib/python3.10/site-packages (from accelerate>=0.26.0->lm_eval) (1.26.3)\n",
      "Requirement already satisfied: packaging>=20.0 in /opt/conda/lib/python3.10/site-packages (from accelerate>=0.26.0->lm_eval) (23.1)\n",
      "Requirement already satisfied: psutil in /opt/conda/lib/python3.10/site-packages (from accelerate>=0.26.0->lm_eval) (5.9.0)\n",
      "Requirement already satisfied: pyyaml in /opt/conda/lib/python3.10/site-packages (from accelerate>=0.26.0->lm_eval) (6.0.1)\n",
      "Requirement already satisfied: safetensors>=0.4.3 in /opt/conda/lib/python3.10/site-packages (from accelerate>=0.26.0->lm_eval) (0.4.5)\n",
      "Requirement already satisfied: filelock in /opt/conda/lib/python3.10/site-packages (from datasets>=2.16.0->lm_eval) (3.13.1)\n",
      "Requirement already satisfied: pyarrow>=15.0.0 in /opt/conda/lib/python3.10/site-packages (from datasets>=2.16.0->lm_eval) (18.0.0)\n",
      "Requirement already satisfied: pandas in /opt/conda/lib/python3.10/site-packages (from datasets>=2.16.0->lm_eval) (2.2.3)\n",
      "Requirement already satisfied: requests>=2.32.2 in /opt/conda/lib/python3.10/site-packages (from datasets>=2.16.0->lm_eval) (2.32.3)\n",
      "Requirement already satisfied: tqdm>=4.66.3 in /opt/conda/lib/python3.10/site-packages (from datasets>=2.16.0->lm_eval) (4.67.0)\n",
      "Requirement already satisfied: xxhash in /opt/conda/lib/python3.10/site-packages (from datasets>=2.16.0->lm_eval) (3.5.0)\n",
      "Requirement already satisfied: multiprocess<0.70.17 in /opt/conda/lib/python3.10/site-packages (from datasets>=2.16.0->lm_eval) (0.70.16)\n",
      "Requirement already satisfied: fsspec<=2024.9.0,>=2023.1.0 in /opt/conda/lib/python3.10/site-packages (from fsspec[http]<=2024.9.0,>=2023.1.0->datasets>=2.16.0->lm_eval) (2024.2.0)\n",
      "Requirement already satisfied: aiohttp in /opt/conda/lib/python3.10/site-packages (from datasets>=2.16.0->lm_eval) (3.10.10)\n",
      "Requirement already satisfied: absl-py in /opt/conda/lib/python3.10/site-packages (from rouge-score>=0.0.4->lm_eval) (2.1.0)\n",
      "Requirement already satisfied: nltk in /opt/conda/lib/python3.10/site-packages (from rouge-score>=0.0.4->lm_eval) (3.9.1)\n",
      "Requirement already satisfied: six>=1.14.0 in /opt/conda/lib/python3.10/site-packages (from rouge-score>=0.0.4->lm_eval) (1.16.0)\n",
      "Requirement already satisfied: portalocker in /opt/conda/lib/python3.10/site-packages (from sacrebleu>=1.5.0->lm_eval) (2.10.1)\n",
      "Requirement already satisfied: regex in /opt/conda/lib/python3.10/site-packages (from sacrebleu>=1.5.0->lm_eval) (2024.11.6)\n",
      "Requirement already satisfied: tabulate>=0.8.9 in /opt/conda/lib/python3.10/site-packages (from sacrebleu>=1.5.0->lm_eval) (0.9.0)\n",
      "Requirement already satisfied: colorama in /opt/conda/lib/python3.10/site-packages (from sacrebleu>=1.5.0->lm_eval) (0.4.6)\n",
      "Requirement already satisfied: lxml in /opt/conda/lib/python3.10/site-packages (from sacrebleu>=1.5.0->lm_eval) (5.3.0)\n",
      "Requirement already satisfied: scipy>=1.6.0 in /opt/conda/lib/python3.10/site-packages (from scikit-learn>=0.24.1->lm_eval) (1.14.1)\n",
      "Requirement already satisfied: joblib>=1.2.0 in /opt/conda/lib/python3.10/site-packages (from scikit-learn>=0.24.1->lm_eval) (1.4.2)\n",
      "Requirement already satisfied: threadpoolctl>=3.1.0 in /opt/conda/lib/python3.10/site-packages (from scikit-learn>=0.24.1->lm_eval) (3.5.0)\n",
      "Requirement already satisfied: typing-extensions>=4.8.0 in /opt/conda/lib/python3.10/site-packages (from torch>=1.8->lm_eval) (4.9.0)\n",
      "Requirement already satisfied: sympy in /opt/conda/lib/python3.10/site-packages (from torch>=1.8->lm_eval) (1.12)\n",
      "Requirement already satisfied: networkx in /opt/conda/lib/python3.10/site-packages (from torch>=1.8->lm_eval) (3.1)\n",
      "Requirement already satisfied: jinja2 in /opt/conda/lib/python3.10/site-packages (from torch>=1.8->lm_eval) (3.1.3)\n",
      "Requirement already satisfied: tokenizers<0.21,>=0.20 in /opt/conda/lib/python3.10/site-packages (from transformers>=4.1->lm_eval) (0.20.3)\n",
      "Requirement already satisfied: attrs>=19.2.0 in /opt/conda/lib/python3.10/site-packages (from jsonlines->lm_eval) (23.1.0)\n",
      "Requirement already satisfied: setuptools>=38.3.0 in /opt/conda/lib/python3.10/site-packages (from pytablewriter->lm_eval) (68.2.2)\n",
      "Requirement already satisfied: DataProperty<2,>=1.0.1 in /opt/conda/lib/python3.10/site-packages (from pytablewriter->lm_eval) (1.0.1)\n",
      "Requirement already satisfied: mbstrdecoder<2,>=1.0.0 in /opt/conda/lib/python3.10/site-packages (from pytablewriter->lm_eval) (1.1.3)\n",
      "Requirement already satisfied: pathvalidate<4,>=2.3.0 in /opt/conda/lib/python3.10/site-packages (from pytablewriter->lm_eval) (3.2.1)\n",
      "Requirement already satisfied: tabledata<2,>=1.3.1 in /opt/conda/lib/python3.10/site-packages (from pytablewriter->lm_eval) (1.3.3)\n",
      "Requirement already satisfied: tcolorpy<1,>=0.0.5 in /opt/conda/lib/python3.10/site-packages (from pytablewriter->lm_eval) (0.1.6)\n",
      "Requirement already satisfied: typepy<2,>=1.3.2 in /opt/conda/lib/python3.10/site-packages (from typepy[datetime]<2,>=1.3.2->pytablewriter->lm_eval) (1.3.2)\n",
      "Requirement already satisfied: aiohappyeyeballs>=2.3.0 in /opt/conda/lib/python3.10/site-packages (from aiohttp->datasets>=2.16.0->lm_eval) (2.4.3)\n",
      "Requirement already satisfied: aiosignal>=1.1.2 in /opt/conda/lib/python3.10/site-packages (from aiohttp->datasets>=2.16.0->lm_eval) (1.3.1)\n",
      "Requirement already satisfied: frozenlist>=1.1.1 in /opt/conda/lib/python3.10/site-packages (from aiohttp->datasets>=2.16.0->lm_eval) (1.5.0)\n",
      "Requirement already satisfied: multidict<7.0,>=4.5 in /opt/conda/lib/python3.10/site-packages (from aiohttp->datasets>=2.16.0->lm_eval) (6.1.0)\n",
      "Requirement already satisfied: yarl<2.0,>=1.12.0 in /opt/conda/lib/python3.10/site-packages (from aiohttp->datasets>=2.16.0->lm_eval) (1.17.1)\n",
      "Requirement already satisfied: async-timeout<5.0,>=4.0 in /opt/conda/lib/python3.10/site-packages (from aiohttp->datasets>=2.16.0->lm_eval) (4.0.3)\n",
      "Requirement already satisfied: chardet<6,>=3.0.4 in /opt/conda/lib/python3.10/site-packages (from mbstrdecoder<2,>=1.0.0->pytablewriter->lm_eval) (4.0.0)\n",
      "Requirement already satisfied: charset-normalizer<4,>=2 in /opt/conda/lib/python3.10/site-packages (from requests>=2.32.2->datasets>=2.16.0->lm_eval) (2.0.4)\n",
      "Requirement already satisfied: idna<4,>=2.5 in /opt/conda/lib/python3.10/site-packages (from requests>=2.32.2->datasets>=2.16.0->lm_eval) (3.4)\n",
      "Requirement already satisfied: urllib3<3,>=1.21.1 in /opt/conda/lib/python3.10/site-packages (from requests>=2.32.2->datasets>=2.16.0->lm_eval) (2.1.0)\n",
      "Requirement already satisfied: certifi>=2017.4.17 in /opt/conda/lib/python3.10/site-packages (from requests>=2.32.2->datasets>=2.16.0->lm_eval) (2024.8.30)\n",
      "Requirement already satisfied: python-dateutil<3.0.0,>=2.8.0 in /opt/conda/lib/python3.10/site-packages (from typepy[datetime]<2,>=1.3.2->pytablewriter->lm_eval) (2.9.0)\n",
      "Requirement already satisfied: pytz>=2018.9 in /opt/conda/lib/python3.10/site-packages (from typepy[datetime]<2,>=1.3.2->pytablewriter->lm_eval) (2023.3.post1)\n",
      "Requirement already satisfied: MarkupSafe>=2.0 in /opt/conda/lib/python3.10/site-packages (from jinja2->torch>=1.8->lm_eval) (2.1.3)\n",
      "Requirement already satisfied: click in /opt/conda/lib/python3.10/site-packages (from nltk->rouge-score>=0.0.4->lm_eval) (8.1.7)\n",
      "Requirement already satisfied: tzdata>=2022.7 in /opt/conda/lib/python3.10/site-packages (from pandas->datasets>=2.16.0->lm_eval) (2024.2)\n",
      "Requirement already satisfied: mpmath>=0.19 in /opt/conda/lib/python3.10/site-packages (from sympy->torch>=1.8->lm_eval) (1.3.0)\n",
      "Requirement already satisfied: propcache>=0.2.0 in /opt/conda/lib/python3.10/site-packages (from yarl<2.0,>=1.12.0->aiohttp->datasets>=2.16.0->lm_eval) (0.2.0)\n",
      "\u001b[33mWARNING: Running pip as the 'root' user can result in broken permissions and conflicting behaviour with the system package manager. It is recommended to use a virtual environment instead: https://pip.pypa.io/warnings/venv\u001b[0m\u001b[33m\n",
      "\u001b[0mRequirement already satisfied: matplotlib in /opt/conda/lib/python3.10/site-packages (3.9.2)\n",
      "Requirement already satisfied: contourpy>=1.0.1 in /opt/conda/lib/python3.10/site-packages (from matplotlib) (1.3.0)\n",
      "Requirement already satisfied: cycler>=0.10 in /opt/conda/lib/python3.10/site-packages (from matplotlib) (0.12.1)\n",
      "Requirement already satisfied: fonttools>=4.22.0 in /opt/conda/lib/python3.10/site-packages (from matplotlib) (4.54.1)\n",
      "Requirement already satisfied: kiwisolver>=1.3.1 in /opt/conda/lib/python3.10/site-packages (from matplotlib) (1.4.7)\n",
      "Requirement already satisfied: numpy>=1.23 in /opt/conda/lib/python3.10/site-packages (from matplotlib) (1.26.3)\n",
      "Requirement already satisfied: packaging>=20.0 in /opt/conda/lib/python3.10/site-packages (from matplotlib) (23.1)\n",
      "Requirement already satisfied: pillow>=8 in /opt/conda/lib/python3.10/site-packages (from matplotlib) (10.2.0)\n",
      "Requirement already satisfied: pyparsing>=2.3.1 in /opt/conda/lib/python3.10/site-packages (from matplotlib) (3.2.0)\n",
      "Requirement already satisfied: python-dateutil>=2.7 in /opt/conda/lib/python3.10/site-packages (from matplotlib) (2.9.0)\n",
      "Requirement already satisfied: six>=1.5 in /opt/conda/lib/python3.10/site-packages (from python-dateutil>=2.7->matplotlib) (1.16.0)\n",
      "\u001b[33mWARNING: Running pip as the 'root' user can result in broken permissions and conflicting behaviour with the system package manager. It is recommended to use a virtual environment instead: https://pip.pypa.io/warnings/venv\u001b[0m\u001b[33m\n",
      "\u001b[0m"
     ]
    }
   ],
   "source": [
    "!pip install lm_eval\n",
    "!pip install matplotlib"
   ]
  },
  {
   "cell_type": "code",
   "execution_count": 6,
   "metadata": {},
   "outputs": [
    {
     "name": "stdout",
     "output_type": "stream",
     "text": [
      "/workspace\n",
      "env: NCCL_P2P_DISABLE=\"1\"\n",
      "env: NCCL_IB_DISABLE=\"1\"\n"
     ]
    },
    {
     "name": "stderr",
     "output_type": "stream",
     "text": [
      "/opt/conda/lib/python3.10/site-packages/IPython/core/magics/osm.py:417: UserWarning: using dhist requires you to install the `pickleshare` library.\n",
      "  self.shell.db['dhist'] = compress_dhist(dhist)[-100:]\n"
     ]
    }
   ],
   "source": [
    "%cd /workspace/\n",
    "%env NCCL_P2P_DISABLE=\"1\" \n",
    "%env NCCL_IB_DISABLE=\"1\"\n",
    "\n",
    "import json\n",
    "\n",
    "import lm_eval\n",
    "import torch\n",
    "import torch.nn.functional as F\n",
    "from lm_eval.api.model import LM\n",
    "from tqdm import tqdm\n",
    "from transformers import AutoModelForCausalLM, AutoTokenizer\n",
    "\n",
    "from model import GPT, get_model_config\n",
    "from tokenizer import LinearTokenizer\n",
    "from tokenizers import Tokenizer\n",
    "    \n",
    "# lm_eval --model hf --model_args pretrained=openai-community/gpt2 --tasks hellaswag --device cuda:0 --batch_size 8"
   ]
  },
  {
   "cell_type": "code",
   "execution_count": 7,
   "metadata": {},
   "outputs": [],
   "source": [
    "class LMWrapper(LM):\n",
    "    def __init__(self, tokenizer, model, device='cuda'):\n",
    "        super().__init__()\n",
    "        self.device = device\n",
    "        self.tokenizer = tokenizer\n",
    "        self.model = model.to(self.device)\n",
    "\n",
    "    def loglikelihood(self, requests, disable_tqdm: bool = False):\n",
    "        return [self.calculate_loglikelihood(req.arguments[0], req.arguments[1]) for req in tqdm(requests, disable=disable_tqdm)]\n",
    "\n",
    "    def calculate_loglikelihood(self, context, continuation):\n",
    "        input_text = context + continuation\n",
    "        inputs = self.tokenizer.encode(input_text)\n",
    "        inputs = torch.tensor(inputs, dtype=torch.long).unsqueeze(0).to(self.device)\n",
    "        model_inputs = inputs[:, :-1]\n",
    "\n",
    "        continuation_ids = self.tokenizer.encode(continuation)\n",
    "        continuation_ids = torch.tensor(continuation_ids, dtype=torch.long).unsqueeze(0).to(self.device)\n",
    "\n",
    "        with torch.no_grad():\n",
    "            ret = self.model(model_inputs)\n",
    "            logits = ret[0] if isinstance(ret, tuple) else ret.logits # get logits from nanoGPT/hf model\n",
    "\n",
    "        continuation_length = continuation_ids.size(-1)\n",
    "        continuation_logits = logits[:, -continuation_length:]\n",
    "        loss = F.cross_entropy(continuation_logits.view(-1, continuation_logits.size(-1)), continuation_ids.view(-1), reduction=\"sum\")\n",
    "        log_likelihood = -loss.item()\n",
    "\n",
    "        greedy_ids = torch.argmax(continuation_logits, dim=-1)\n",
    "        is_greedy = torch.equal(greedy_ids, continuation_ids)\n",
    "        \n",
    "        return (log_likelihood, is_greedy)\n",
    "\n",
    "    def generate_until(self, requests):\n",
    "        raise NotImplementedError()\n",
    "    \n",
    "    def loglikelihood_rolling(self, requests):\n",
    "        raise NotImplementedError()\n",
    "\n",
    "\n",
    "def create_lm_hf(model_type=\"gpt2\"):\n",
    "    tokenizer = AutoTokenizer.from_pretrained('gpt2')\n",
    "    model = AutoModelForCausalLM.from_pretrained(model_type)\n",
    "    return LMWrapper(tokenizer, model, device=\"cuda\")\n",
    "\n",
    "\n",
    "def create_lm(model_type, tokenizer_type, checkpoint_path, vocab_size=50304):\n",
    "    model = GPT(get_model_config(model_type, vocab_size=vocab_size))\n",
    "    model.load_state_dict(torch.load(checkpoint_path, weights_only=False)[\"model\"])\n",
    "\n",
    "    assert tokenizer_type in [\"bpe\", \"lin\"], \"tokenizer must either be bpe or lin\"\n",
    "    if tokenizer_type == \"bpe\":\n",
    "        tokenizer = AutoTokenizer.from_pretrained('gpt2')#\n",
    "    if tokenizer_type == \"lin\":\n",
    "        with open('./vocab.json', 'r', encoding='utf-8') as f:\n",
    "            vocab = json.load(f)\n",
    "        tokenizer = LinearTokenizer(vocab)\n",
    "\n",
    "    return LMWrapper(tokenizer, model, device=\"cuda\")"
   ]
  },
  {
   "cell_type": "code",
   "execution_count": 8,
   "metadata": {},
   "outputs": [
    {
     "name": "stderr",
     "output_type": "stream",
     "text": [
      "2024-11-09:03:13:13,763 INFO     [evaluator.py:164] Setting random seed to 0 | Setting numpy seed to 1234 | Setting torch manual seed to 1234 | Setting fewshot manual seed to 1234\n",
      "2024-11-09:03:13:13,764 INFO     [evaluator.py:217] Using pre-initialized model\n",
      "2024-11-09:03:13:38,403 WARNING  [task.py:325] [Task: lambada_openai] has_training_docs and has_validation_docs are False, using test_docs as fewshot_docs but this is not recommended.\n",
      "2024-11-09:03:13:38,405 WARNING  [task.py:325] [Task: lambada_openai] has_training_docs and has_validation_docs are False, using test_docs as fewshot_docs but this is not recommended.\n",
      "2024-11-09:03:13:38,589 INFO     [task.py:415] Building contexts for lambada_openai on rank 0...\n",
      "100%|██████████| 5153/5153 [00:12<00:00, 404.68it/s]\n",
      "2024-11-09:03:13:51,490 INFO     [task.py:415] Building contexts for winogrande on rank 0...\n",
      "100%|██████████| 1267/1267 [00:00<00:00, 48541.99it/s]\n",
      "2024-11-09:03:13:51,607 INFO     [task.py:415] Building contexts for arc_easy on rank 0...\n",
      "100%|██████████| 2376/2376 [00:02<00:00, 847.32it/s]\n",
      "2024-11-09:03:13:54,668 INFO     [task.py:415] Building contexts for piqa on rank 0...\n",
      "100%|██████████| 1838/1838 [00:02<00:00, 844.42it/s]\n",
      "2024-11-09:03:13:56,973 INFO     [task.py:415] Building contexts for hellaswag on rank 0...\n",
      "100%|██████████| 10042/10042 [00:04<00:00, 2070.57it/s]\n",
      "2024-11-09:03:14:04,171 INFO     [evaluator.py:489] Running loglikelihood requests\n",
      "100%|██████████| 61032/61032 [12:32<00:00, 81.15it/s]\n"
     ]
    },
    {
     "name": "stdout",
     "output_type": "stream",
     "text": [
      "bootstrapping for stddev: perplexity\n"
     ]
    },
    {
     "name": "stderr",
     "output_type": "stream",
     "text": [
      "100%|██████████| 100/100 [00:08<00:00, 11.72it/s]\n",
      "fatal: not a git repository (or any of the parent directories): .git\n"
     ]
    },
    {
     "name": "stdout",
     "output_type": "stream",
     "text": [
      "lin-md-0\n",
      "{'arc_easy': {'alias': 'arc_easy', 'acc,none': 0.5526094276094277, 'acc_stderr,none': 0.010202832385415639, 'acc_norm,none': 0.49452861952861954, 'acc_norm_stderr,none': 0.010259169228615044}, 'hellaswag': {'alias': 'hellaswag', 'acc,none': 0.3064130651264688, 'acc_stderr,none': 0.0046006120004226676, 'acc_norm,none': 0.3509261103365863, 'acc_norm_stderr,none': 0.004762844770909871}, 'lambada_openai': {'alias': 'lambada_openai', 'perplexity,none': 75.70471584899612, 'perplexity_stderr,none': 3.3801848863491366, 'acc,none': 0.27168639627401514, 'acc_stderr,none': 0.006197338676240231}, 'piqa': {'alias': 'piqa', 'acc,none': 0.6490750816104461, 'acc_stderr,none': 0.011135250564776798, 'acc_norm,none': 0.6360174102285092, 'acc_norm_stderr,none': 0.011225875703487171}, 'winogrande': {'alias': 'winogrande', 'acc,none': 0.5074980268350434, 'acc_stderr,none': 0.014050905521228587}}\n"
     ]
    }
   ],
   "source": [
    "models = {\n",
    "    # \"bpe-hf\": create_lm_hf(),\n",
    "    #\"bpe-0\": create_lm(\"gpt2\", \"bpe\", \"models-linear/model-bpe-05-11.pt\", vocab_size=50257),\n",
    "    #\"bpe-1\": create_lm(\"gpt2\", \"bpe\", \"models-linear/model-bpe-08-11.pt\"),\n",
    "    #\"lin-0\": create_lm(\"gpt2\", \"lin\", \"models-linear/model-lin-05-11.pt\", vocab_size=50257),\n",
    "    #\"lin-1\": create_lm(\"gpt2\", \"lin\", \"models-linear/model-lin-08-11.pt\"),\n",
    "    #\"bpe-md-0\": create_lm(\"gpt2-medium\", \"bpe\", \"models-linear/model-bpe-md-08-11.pt\"),\n",
    "    \"lin-md-0\": create_lm(\"gpt2-medium\", \"lin\", \"models-linear/model-lin-md-08-11.pt\"),\n",
    "}\n",
    "\n",
    "results = {}\n",
    "for name, model in models.items():\n",
    "    task_manager = lm_eval.tasks.TaskManager()\n",
    "    model_result = lm_eval.simple_evaluate(\n",
    "        model=model,\n",
    "        # \"hellaswag\", \"piqa\", \"arc_easy\", \"winogrande\", \"lambada_openai\"\n",
    "        tasks=[\"hellaswag\", \"piqa\", \"arc_easy\", \"winogrande\", \"lambada_openai\"],\n",
    "        task_manager=task_manager,\n",
    "        # num_fewshot=None,\n",
    "        # limit=None,\n",
    "    )\n",
    "\n",
    "    print(name)\n",
    "    print(model_result[\"results\"])\n",
    "    results[name] = model_result[\"results\"]\n",
    "\n",
    "    with open(\"eval.json\", \"w\") as json_file:\n",
    "        json.dump(results, json_file, indent=4)"
   ]
  },
  {
   "cell_type": "code",
   "execution_count": 20,
   "metadata": {},
   "outputs": [
    {
     "name": "stdout",
     "output_type": "stream",
     "text": [
      "model        bpe-0    bpe-1    lin-0    lin-1\n",
      "measure   acc_norm acc_norm acc_norm acc_norm\n",
      "task                                         \n",
      "arc_easy    0.4785   0.4646   0.4609   0.4701\n",
      "hellaswag   0.3193   0.3243   0.3274   0.3256\n",
      "piqa        0.6197   0.6246   0.6240   0.6240\n"
     ]
    },
    {
     "data": {
      "text/plain": [
       "<Figure size 1000x600 with 0 Axes>"
      ]
     },
     "metadata": {},
     "output_type": "display_data"
    },
    {
     "data": {
      "image/png": "[encoded data removed]",
      "text/plain": [
       "<Figure size 1000x600 with 1 Axes>"
      ]
     },
     "metadata": {},
     "output_type": "display_data"
    }
   ],
   "source": [
    "import pandas as pd\n",
    "import matplotlib.pyplot as plt\n",
    "import json\n",
    "\n",
    "pd.set_option('display.max_colwidth', 200)\n",
    "\n",
    "with open('/workspace/eval.json', 'r') as file:\n",
    "    data = json.load(file)\n",
    "\n",
    "df = pd.json_normalize(data, sep='|').T\n",
    "df.reset_index(inplace=True)\n",
    "df.columns = ['metric', 'value']\n",
    "\n",
    "df['metric'] = df['metric'].str.replace(',none', '')\n",
    "\n",
    "df[['model', 'task', 'measure']] = df['metric'].str.split('|', expand=True)\n",
    "df = df.drop(columns='metric')\n",
    "\n",
    "df = df[~df['model'].isin(['bpe-md-0', 'lin-md-0'])]\n",
    "df = df[~df['task'].isin(['winogrande'])]\n",
    "df = df[df['measure'].isin(['acc_norm'])]\n",
    "\n",
    "accuracy_pivot = df.pivot(index='task', columns=['model', 'measure'], values='value')\n",
    "# print(accuracy_df)\n",
    "with pd.option_context('display.float_format', '{:.4f}'.format):\n",
    "    print(accuracy_pivot.to_string())\n",
    "\n",
    "plt.figure(figsize=(10, 6))\n",
    "accuracy_pivot.plot(kind='bar', figsize=(10, 6), rot=45)\n",
    "plt.title('Accuracy Comparison Across Models')\n",
    "plt.ylabel('Accuracy')\n",
    "plt.xlabel('Task')\n",
    "plt.legend(title='Dataset')\n",
    "plt.tight_layout()\n",
    "plt.show()"
   ]
  },
  {
   "cell_type": "code",
   "execution_count": null,
   "metadata": {},
   "outputs": [],
   "source": []
  }
 ],
 "metadata": {
  "kernelspec": {
   "display_name": "base",
   "language": "python",
   "name": "python3"
  },
  "language_info": {
   "codemirror_mode": {
    "name": "ipython",
    "version": 3
   },
   "file_extension": ".py",
   "mimetype": "text/x-python",
   "name": "python",
   "nbconvert_exporter": "python",
   "pygments_lexer": "ipython3",
   "version": "3.10.13"
  }
 },
 "nbformat": 4,
 "nbformat_minor": 2
}
